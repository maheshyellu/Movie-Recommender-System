{
 "cells": [
  {
   "cell_type": "code",
   "execution_count": 2,
   "id": "9d4a311f-6ae2-4e58-8b23-b87942de3097",
   "metadata": {},
   "outputs": [],
   "source": [
    "import pandas as pd\n",
    "import numpy as np\n",
    "import matplotlib.pyplot as plt\n",
    "import seaborn as sns"
   ]
  },
  {
   "cell_type": "markdown",
   "id": "adf741ec-f14b-4286-b9c9-dd17b078b711",
   "metadata": {},
   "source": [
    "### Step 1: Load the data"
   ]
  },
  {
   "cell_type": "code",
   "execution_count": 3,
   "id": "eaa8d7bf-b262-4803-8796-753e6d11e26d",
   "metadata": {},
   "outputs": [
    {
     "name": "stdout",
     "output_type": "stream",
     "text": [
      "                     title  year            genre  rating\n",
      "0                     Arya  2004  Action, Romance     7.5\n",
      "1                     Eega  2012  Fantasy, Action     7.7\n",
      "2               Magadheera  2009  Action, Romance     7.8\n",
      "3                   Jersey  2019    Sports, Drama     8.0\n",
      "4  Ala Vaikunthapurramuloo  2020   Action, Comedy     8.1\n"
     ]
    }
   ],
   "source": [
    "df = pd.read_csv('telugu_movies_sample.csv')\n",
    "print(df.head())"
   ]
  },
  {
   "cell_type": "code",
   "execution_count": 4,
   "id": "45086175-6eca-46f8-8a7c-87ba6e265e16",
   "metadata": {},
   "outputs": [
    {
     "data": {
      "text/html": [
       "<div>\n",
       "<style scoped>\n",
       "    .dataframe tbody tr th:only-of-type {\n",
       "        vertical-align: middle;\n",
       "    }\n",
       "\n",
       "    .dataframe tbody tr th {\n",
       "        vertical-align: top;\n",
       "    }\n",
       "\n",
       "    .dataframe thead th {\n",
       "        text-align: right;\n",
       "    }\n",
       "</style>\n",
       "<table border=\"1\" class=\"dataframe\">\n",
       "  <thead>\n",
       "    <tr style=\"text-align: right;\">\n",
       "      <th></th>\n",
       "      <th>year</th>\n",
       "      <th>rating</th>\n",
       "    </tr>\n",
       "  </thead>\n",
       "  <tbody>\n",
       "    <tr>\n",
       "      <th>count</th>\n",
       "      <td>10.000000</td>\n",
       "      <td>10.000000</td>\n",
       "    </tr>\n",
       "    <tr>\n",
       "      <th>mean</th>\n",
       "      <td>2013.700000</td>\n",
       "      <td>7.780000</td>\n",
       "    </tr>\n",
       "    <tr>\n",
       "      <th>std</th>\n",
       "      <td>5.657836</td>\n",
       "      <td>0.252982</td>\n",
       "    </tr>\n",
       "    <tr>\n",
       "      <th>min</th>\n",
       "      <td>2004.000000</td>\n",
       "      <td>7.500000</td>\n",
       "    </tr>\n",
       "    <tr>\n",
       "      <th>25%</th>\n",
       "      <td>2009.750000</td>\n",
       "      <td>7.525000</td>\n",
       "    </tr>\n",
       "    <tr>\n",
       "      <th>50%</th>\n",
       "      <td>2016.000000</td>\n",
       "      <td>7.750000</td>\n",
       "    </tr>\n",
       "    <tr>\n",
       "      <th>75%</th>\n",
       "      <td>2017.750000</td>\n",
       "      <td>8.000000</td>\n",
       "    </tr>\n",
       "    <tr>\n",
       "      <th>max</th>\n",
       "      <td>2020.000000</td>\n",
       "      <td>8.100000</td>\n",
       "    </tr>\n",
       "  </tbody>\n",
       "</table>\n",
       "</div>"
      ],
      "text/plain": [
       "              year     rating\n",
       "count    10.000000  10.000000\n",
       "mean   2013.700000   7.780000\n",
       "std       5.657836   0.252982\n",
       "min    2004.000000   7.500000\n",
       "25%    2009.750000   7.525000\n",
       "50%    2016.000000   7.750000\n",
       "75%    2017.750000   8.000000\n",
       "max    2020.000000   8.100000"
      ]
     },
     "execution_count": 4,
     "metadata": {},
     "output_type": "execute_result"
    }
   ],
   "source": [
    "df.describe()"
   ]
  },
  {
   "cell_type": "code",
   "execution_count": 5,
   "id": "5f8aa2f8-549c-4eaa-b2c9-7db6ac8c66a8",
   "metadata": {},
   "outputs": [
    {
     "data": {
      "text/plain": [
       "(10, 4)"
      ]
     },
     "execution_count": 5,
     "metadata": {},
     "output_type": "execute_result"
    }
   ],
   "source": [
    "df.shape"
   ]
  },
  {
   "cell_type": "code",
   "execution_count": 6,
   "id": "1c5d55a6-37fc-4fa7-ac4e-5faade0c0d89",
   "metadata": {},
   "outputs": [
    {
     "name": "stdout",
     "output_type": "stream",
     "text": [
      "<class 'pandas.core.frame.DataFrame'>\n",
      "RangeIndex: 10 entries, 0 to 9\n",
      "Data columns (total 4 columns):\n",
      " #   Column  Non-Null Count  Dtype  \n",
      "---  ------  --------------  -----  \n",
      " 0   title   10 non-null     object \n",
      " 1   year    10 non-null     int64  \n",
      " 2   genre   10 non-null     object \n",
      " 3   rating  10 non-null     float64\n",
      "dtypes: float64(1), int64(1), object(2)\n",
      "memory usage: 452.0+ bytes\n",
      "None\n"
     ]
    }
   ],
   "source": [
    "print(df.info())"
   ]
  },
  {
   "cell_type": "markdown",
   "id": "6774fc88-ab1d-4470-add5-ff44ed2434d9",
   "metadata": {},
   "source": [
    "### Step 2: Data preprocessing & Cleaning"
   ]
  },
  {
   "cell_type": "code",
   "execution_count": 7,
   "id": "e0c4e6bf-d4a0-46e9-8a25-081fc1c5c4e2",
   "metadata": {},
   "outputs": [
    {
     "name": "stdout",
     "output_type": "stream",
     "text": [
      "title     0\n",
      "year      0\n",
      "genre     0\n",
      "rating    0\n",
      "dtype: int64\n"
     ]
    }
   ],
   "source": [
    "# Check for missing values\n",
    "print(df.isnull().sum())"
   ]
  },
  {
   "cell_type": "code",
   "execution_count": 8,
   "id": "5a88cb09-46b6-43c9-a194-e3bbb328eac1",
   "metadata": {},
   "outputs": [
    {
     "name": "stdout",
     "output_type": "stream",
     "text": [
      "title      object\n",
      "year        int64\n",
      "genre      object\n",
      "rating    float64\n",
      "dtype: object\n"
     ]
    }
   ],
   "source": [
    "# Check data types\n",
    "print(df.dtypes)"
   ]
  },
  {
   "cell_type": "code",
   "execution_count": 9,
   "id": "36b66165-48c3-41d3-a878-3eafd4a25ba0",
   "metadata": {},
   "outputs": [],
   "source": [
    "# Convert 'year' to integer if needed\n",
    "df['year'] = df['year'].astype(int)"
   ]
  },
  {
   "cell_type": "markdown",
   "id": "8e9e3809-a206-49b2-a102-af28fe2c1df4",
   "metadata": {},
   "source": [
    "### Step 3: Exploratory Data Analysis (EDA)"
   ]
  },
  {
   "cell_type": "markdown",
   "id": "4f60216a-873e-4aec-87a2-225129b2aeee",
   "metadata": {},
   "source": [
    "#### Distribution of movie ratings"
   ]
  },
  {
   "cell_type": "code",
   "execution_count": 10,
   "id": "13970568-456c-4345-b4e7-d980eaff2778",
   "metadata": {},
   "outputs": [
    {
     "data": {
      "image/png": "[encoded data removed]",
      "text/plain": [
       "<Figure size 640x480 with 1 Axes>"
      ]
     },
     "metadata": {},
     "output_type": "display_data"
    }
   ],
   "source": [
    "plt.hist(df['rating'], bins=5, edgecolor='black')\n",
    "plt.title('Distribution of Movie Ratings')\n",
    "plt.xlabel('Rating')\n",
    "plt.ylabel('Count')\n",
    "plt.show()"
   ]
  },
  {
   "cell_type": "code",
   "execution_count": 11,
   "id": "fe1c7570-bdda-4b97-ad6f-447de3c23b8a",
   "metadata": {},
   "outputs": [
    {
     "data": {
      "image/png": "[encoded data removed]",
      "text/plain": [
       "<Figure size 1000x500 with 1 Axes>"
      ]
     },
     "metadata": {},
     "output_type": "display_data"
    }
   ],
   "source": [
    "# Movies per year\n",
    "df['year'].value_counts().sort_index().plot(kind='bar', figsize=(10,5))\n",
    "plt.title('Number of Movies Released Per Year')\n",
    "plt.xlabel('Year')\n",
    "plt.ylabel('Number of Movies')\n",
    "plt.show()\n"
   ]
  },
  {
   "cell_type": "code",
   "execution_count": 13,
   "id": "84b0899f-0dc5-45b2-9e4c-0a3f9532f22a",
   "metadata": {},
   "outputs": [],
   "source": [
    "df['genre'] = df['genre'].apply(lambda x: x.split(', ') if isinstance(x, str) else x)\n"
   ]
  },
  {
   "cell_type": "code",
   "execution_count": 14,
   "id": "76be00f3-ccfb-4457-9dcd-bdcf0bb5d72a",
   "metadata": {},
   "outputs": [
    {
     "name": "stdout",
     "output_type": "stream",
     "text": [
      "Top genres: [('Action', 7), ('Drama', 5), ('Romance', 4), ('Fantasy', 1), ('Sports', 1), ('Comedy', 1), ('Thriller', 1)]\n"
     ]
    }
   ],
   "source": [
    "# Count genres\n",
    "from collections import Counter\n",
    "genre_list = sum(df['genre'].tolist(), [])\n",
    "genre_counts = Counter(genre_list)\n",
    "print(\"Top genres:\", genre_counts.most_common())\n"
   ]
  },
  {
   "cell_type": "markdown",
   "id": "b6c0e268-3e29-4d54-b218-62c91b371c0e",
   "metadata": {},
   "source": [
    "#### Step 4: Building the Recommender System"
   ]
  },
  {
   "cell_type": "code",
   "execution_count": 16,
   "id": "d96f3e4e-33c3-4a56-a25c-5d79cfb73f35",
   "metadata": {},
   "outputs": [],
   "source": [
    "from sklearn.feature_extraction.text import CountVectorizer\n",
    "from sklearn.metrics.pairwise import cosine_similarity\n"
   ]
  },
  {
   "cell_type": "code",
   "execution_count": 17,
   "id": "02c15aad-217b-4fa1-ba3c-fceab874984a",
   "metadata": {},
   "outputs": [],
   "source": [
    "# Step 1: Convert genre list into a single string\n",
    "df['genre_str'] = df['genre'].apply(lambda x: ' '.join(x))\n"
   ]
  },
  {
   "cell_type": "code",
   "execution_count": 18,
   "id": "d87e47d4-c085-4562-b4c5-191feee19cda",
   "metadata": {},
   "outputs": [],
   "source": [
    "# Step 2: Convert text to vector using CountVectorizer\n",
    "vectorizer = CountVectorizer()\n",
    "genre_matrix = vectorizer.fit_transform(df['genre_str'])\n"
   ]
  },
  {
   "cell_type": "code",
   "execution_count": 19,
   "id": "3183dab4-9a80-470f-8fd2-fec85371193c",
   "metadata": {},
   "outputs": [],
   "source": [
    "# Step 3: Compute cosine similarity between movies\n",
    "similarity_matrix = cosine_similarity(genre_matrix)"
   ]
  },
  {
   "cell_type": "code",
   "execution_count": 21,
   "id": "151ff179-63fd-462c-b2f5-95cae3ab1bc4",
   "metadata": {},
   "outputs": [],
   "source": [
    "# Step 4: Function to recommend movies\n",
    "def recommend_movies(title, df, similarity_matrix):\n",
    "    if title not in df['title'].values:\n",
    "        return f\"Movie '{title}' not found in dataset.\"\n",
    "    # Get index of the movie\n",
    "    index = df[df['title'] == title].index[0]\n",
    "    # Get similarity scores\n",
    "    similarity_scores = list(enumerate(similarity_matrix[index]))\n",
    "    # Sort by similarity score\n",
    "    sorted_scores = sorted(similarity_scores, key=lambda x: x[1], reverse=True)\n",
    "    # Get top 5 similar movies (excluding the movie itself)\n",
    "    top_movies = [df.iloc[i[0]]['title'] for i in sorted_scores[1:6]]\n",
    "    return top_movies\n"
   ]
  },
  {
   "cell_type": "code",
   "execution_count": 22,
   "id": "c259b253-904e-4a29-9c4c-7b7b78149e3d",
   "metadata": {},
   "outputs": [],
   "source": [
    "def recommend_movies(title, df, similarity_matrix, top_n=5):\n",
    "    if title not in df['title'].values:\n",
    "        return f\"Movie '{title}' not found in dataset.\"\n",
    "\n",
    "    # Get index of the selected movie\n",
    "    index = df[df['title'] == title].index[0]\n",
    "\n",
    "    # Get similarity scores\n",
    "    similarity_scores = list(enumerate(similarity_matrix[index]))\n",
    "\n",
    "    # Exclude the movie itself and sort by similarity\n",
    "    sorted_scores = sorted(similarity_scores, key=lambda x: x[1], reverse=True)[1:]\n",
    "\n",
    "    # Get top 20 similar movies (before filtering by rating/year)\n",
    "    similar_movies = [df.iloc[i[0]] for i in sorted_scores[:20]]\n",
    "\n",
    "    # Create a temporary DataFrame\n",
    "    similar_df = pd.DataFrame(similar_movies)\n",
    "\n",
    "    # Sort by rating (descending), then by year (descending)\n",
    "    recommended_df = similar_df.sort_values(by=['rating', 'year'], ascending=[False, False])\n",
    "\n",
    "    # Get top N movie titles\n",
    "    return recommended_df['title'].head(top_n).tolist()\n"
   ]
  },
  {
   "cell_type": "code",
   "execution_count": 23,
   "id": "0980c2e0-eebe-465c-afc8-3e99f38d29f3",
   "metadata": {},
   "outputs": [
    {
     "name": "stdout",
     "output_type": "stream",
     "text": [
      "Recommended movies like 'Magadheera': ['Ala Vaikunthapurramuloo', 'Bahubali: The Beginning', 'Jersey', 'Rangasthalam', 'Magadheera']\n"
     ]
    }
   ],
   "source": [
    "recommendations = recommend_movies(\"Magadheera\", df, similarity_matrix)\n",
    "print(\"Recommended movies like 'Magadheera':\", recommendations)"
   ]
  },
  {
   "cell_type": "markdown",
   "id": "80f8bdfa-21d4-44a0-b490-4b88e404ec43",
   "metadata": {},
   "source": [
    "### Step 5: conclusion"
   ]
  },
  {
   "cell_type": "markdown",
   "id": "e937a21b-500f-4bb7-842c-5f3e383e3e1b",
   "metadata": {},
   "source": [
    "### Conclusion"
   ]
  },
  {
   "cell_type": "markdown",
   "id": "65ce7795-bca7-4d73-ab92-b812697a93c9",
   "metadata": {},
   "source": [
    "#### This mini project successfully built a content-based Telugu movie recommender system that suggests movies based on genre similarity, rating, and release year.\n",
    "\n",
    "#### The system helps users discover relevant and high-quality Telugu movies released between 2000 and the present.\n"
   ]
  },
  {
   "cell_type": "code",
   "execution_count": null,
   "id": "b5c87413-e0a0-4944-a8dd-25630cd216c0",
   "metadata": {},
   "outputs": [],
   "source": []
  }
 ],
 "metadata": {
  "kernelspec": {
   "display_name": "Python 3 (ipykernel)",
   "language": "python",
   "name": "python3"
  },
  "language_info": {
   "codemirror_mode": {
    "name": "ipython",
    "version": 3
   },
   "file_extension": ".py",
   "mimetype": "text/x-python",
   "name": "python",
   "nbconvert_exporter": "python",
   "pygments_lexer": "ipython3",
   "version": "3.12.7"
  }
 },
 "nbformat": 4,
 "nbformat_minor": 5
}
